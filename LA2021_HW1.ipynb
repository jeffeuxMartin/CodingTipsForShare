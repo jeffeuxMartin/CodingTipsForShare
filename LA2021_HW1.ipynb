{
  "nbformat": 4,
  "nbformat_minor": 0,
  "metadata": {
    "kernelspec": {
      "display_name": "Python 3",
      "language": "python",
      "name": "python3"
    },
    "language_info": {
      "codemirror_mode": {
        "name": "ipython",
        "version": 3
      },
      "file_extension": ".py",
      "mimetype": "text/x-python",
      "name": "python",
      "nbconvert_exporter": "python",
      "pygments_lexer": "ipython3",
      "version": "3.6.8"
    },
    "colab": {
      "name": "LA2021_HW1.ipynb",
      "provenance": [],
      "collapsed_sections": [],
      "include_colab_link": true
    }
  },
  "cells": [
    {
      "cell_type": "markdown",
      "metadata": {
        "id": "view-in-github",
        "colab_type": "text"
      },
      "source": [
        "<a href=\"https://colab.research.google.com/github/jeffeuxMartin/CodingTipsForShare/blob/main/LA2021_HW1.ipynb\" target=\"_parent\"><img src=\"https://colab.research.google.com/assets/colab-badge.svg\" alt=\"Open In Colab\"/></a>"
      ]
    },
    {
      "cell_type": "markdown",
      "metadata": {
        "id": "HP6Qn8GxGJhU"
      },
      "source": [
        "# **HW1 cycle detection**\n",
        "\n",
        "Slides for HW1:https://docs.google.com/presentation/d/1Ey5iC-kwchNFcObwy6NqbxOx2V6wk8x388_WR7rKy6E/edit?usp=sharing"
      ]
    },
    {
      "cell_type": "markdown",
      "metadata": {
        "id": "U-v50H6WGJhZ"
      },
      "source": [
        "# Set up the environment\n",
        "### This command will only need to be executed once"
      ]
    },
    {
      "cell_type": "code",
      "metadata": {
        "id": "g9Ve1AwVGJha",
        "colab": {
          "base_uri": "https://localhost:8080/"
        },
        "outputId": "98cdae31-5352-4e5f-acaf-17bb4e5cbd5b"
      },
      "source": [
        "!pip install networkx\n",
        "!pip install scipy"
      ],
      "execution_count": 1,
      "outputs": [
        {
          "output_type": "stream",
          "name": "stdout",
          "text": [
            "Requirement already satisfied: networkx in /usr/local/lib/python3.7/dist-packages (2.6.3)\n",
            "Requirement already satisfied: scipy in /usr/local/lib/python3.7/dist-packages (1.4.1)\n",
            "Requirement already satisfied: numpy>=1.13.3 in /usr/local/lib/python3.7/dist-packages (from scipy) (1.19.5)\n"
          ]
        }
      ]
    },
    {
      "cell_type": "code",
      "metadata": {
        "id": "mzptxDlwehho"
      },
      "source": [
        "import numpy as np\n",
        "import time\n",
        "import networkx as nx"
      ],
      "execution_count": 2,
      "outputs": []
    },
    {
      "cell_type": "markdown",
      "metadata": {
        "id": "ycLGRNVLZ8B4"
      },
      "source": [
        "# Generate graph\n",
        "You don't need to handle the code here"
      ]
    },
    {
      "cell_type": "code",
      "metadata": {
        "id": "j-2ujLEJbPTt"
      },
      "source": [
        "def gen_graph(node_num, edge_num):\n",
        "    graph_list = list()\n",
        "    rec = list()\n",
        "    for _ in range(edge_num):\n",
        "        while True:\n",
        "            edge = np.random.randint(0, node_num, 2)\n",
        "            if edge[0] != edge[1]:\n",
        "                if len(rec) == 0:\n",
        "                    rec.append('{} {}'.format(edge[0], edge[1]))\n",
        "                else:\n",
        "                    if '{} {}'.format(edge[0], edge[1]) not in rec:\n",
        "                        graph_list.append(edge.tolist())\n",
        "                        rec.append('{} {}'.format(edge[0], edge[1]))\n",
        "\n",
        "                break\n",
        "    return graph_list\n",
        "\n",
        "def convert_p1(graph_list):\n",
        "    p1_list = list()\n",
        "    for graph in graph_list:\n",
        "        node_num = np.max(graph)+1\n",
        "        p1_matrix = list()\n",
        "        for x, y in graph:\n",
        "            row = [0] * node_num\n",
        "            row[x] = -1\n",
        "            row[y] = 1\n",
        "            p1_matrix.append(row)\n",
        "        p1_list.append(p1_matrix)\n",
        "    return p1_list\n",
        "\n",
        "def convert_p2(graph_list):\n",
        "    p2_list = list()\n",
        "    for graph in graph_list:\n",
        "        node_num = np.max(graph)+1\n",
        "        p2_matrix = np.zeros((node_num, node_num), dtype=int).tolist()\n",
        "        for x, y in graph:\n",
        "            p2_matrix[x][y] = 1\n",
        "        p2_list.append(p2_matrix)\n",
        "    return p2_list\n"
      ],
      "execution_count": 3,
      "outputs": []
    },
    {
      "cell_type": "markdown",
      "metadata": {
        "id": "ZS93o3ptd_J-"
      },
      "source": [
        "### **Modify the number of nodes and edges here!**"
      ]
    },
    {
      "cell_type": "code",
      "metadata": {
        "id": "PQNF7DhycGuT"
      },
      "source": [
        "def gen_graph_list(size):\n",
        "    graph_list = list()\n",
        "    for _ in range(size):\n",
        "    # ---------------------------------------------------------------------------- #\n",
        "    #     Modify the number of nodes and edges here           #\n",
        "    # ---------------------------------------------------------------------------- #\n",
        "        node_num = np.random.randint(20, 60)\n",
        "        edge_num = np.random.randint(10, 50)\n",
        "        graph_list.append(gen_graph(node_num, edge_num))\n",
        "    return graph_list"
      ],
      "execution_count": null,
      "outputs": []
    },
    {
      "cell_type": "markdown",
      "metadata": {
        "id": "EB3nfNqudysM"
      },
      "source": [
        "### **Change the number of graph you want to generate here!**"
      ]
    },
    {
      "cell_type": "code",
      "metadata": {
        "id": "Dlh_S91NcGoU"
      },
      "source": [
        "def get_p1(seed):\n",
        "    seed = int(seed[2:])\n",
        "    np.random.seed(seed*10+1)\n",
        "    # ----------- Change the number of graph you want to generate here! ---------- #\n",
        "    graph_list = gen_graph_list(8)\n",
        "    return graph_list\n",
        "\n",
        "def get_p2(the_seed):\n",
        "    the_seed = int(the_seed[2:])\n",
        "    np.random.seed(the_seed*10+2)\n",
        "    # ----------- Change the number of graph you want to generate here! ---------- #\n",
        "    graph_list = gen_graph_list(8)\n",
        "    return graph_list"
      ],
      "execution_count": null,
      "outputs": []
    },
    {
      "cell_type": "markdown",
      "metadata": {
        "id": "tDoBfIuueZGH"
      },
      "source": [
        "# **Cycle detection for p1 and p2**\n",
        "## **You should complete your code here!!**\n"
      ]
    },
    {
      "cell_type": "markdown",
      "metadata": {
        "id": "yxW-wUOlLxdJ"
      },
      "source": [
        "Please finish the function of **p1_has_cycle()**.\n",
        "\n",
        "After you finish it, please copy the code in the below block(including the libraries you imported), paste it into a new file, name it \"**p1.py**\", then upload it to NTU COOL."
      ]
    },
    {
      "cell_type": "code",
      "metadata": {
        "id": "4FZZxlHqfF01"
      },
      "source": [
        "from scipy.sparse import *\n",
        "import numpy as np\n",
        "\n",
        "def p1_has_cycle(sets):\n",
        "    # TODO\n",
        "    # return True if the graph has cycle; return False if not\n",
        "    '''\n",
        "      HINT: You can `print(sets)` to show what the matrix looks like\n",
        "        If we have a directed graph with 2->3 4->1 3->5 5->2 0->1\n",
        "              0  1  2  3  4  5\n",
        "            0  0  0 -1  1  0  0\n",
        "            1  0  1  0  0 -1  0\n",
        "            2  0  0  0 -1  0  1\n",
        "            3  0  0  1  0  0 -1\n",
        "            4 -1  1  0  0  0  0\n",
        "        The size of the matrix is (5,6)\n",
        "    '''\n",
        "\n",
        "\n",
        "    return False"
      ],
      "execution_count": 4,
      "outputs": []
    },
    {
      "cell_type": "markdown",
      "metadata": {
        "id": "9m0v1Ue7MUJP"
      },
      "source": [
        "Please finish the function of **p2_has_cycle()**.\n",
        "\n",
        "After you finish it, please copy the code in the below block(including the libraries you imported), paste it into a new file, name it \"**p2.py**\", then upload it to NTU COOL."
      ]
    },
    {
      "cell_type": "code",
      "metadata": {
        "id": "j5g3_FyJfMU-"
      },
      "source": [
        "from scipy.sparse import *\n",
        "import numpy as np\n",
        "\n",
        "def p2_has_cycle(sets):\n",
        "    # TODO\n",
        "    # return True if the graph has cycle; return False if not\n",
        "    '''\n",
        "      HINT: You can `print(sets)` to show what the matrix looks like\n",
        "        If we have a directed graph with 2->3 4->1 3->5 5->2 0->1\n",
        "               0  1  2  3  4  5\n",
        "            0  0  1  0  0  0  0\n",
        "            1  0  0  0  0  0  0\n",
        "            2  0  0  0  1  0  0\n",
        "            3  0  0  0  0  0  1\n",
        "            4  0  1  0  0  0  0\n",
        "            5  0  0  1  0  0  0\n",
        "        The size of the matrix is (6,6)\n",
        "    '''\n",
        "\n",
        "\n",
        "    return False"
      ],
      "execution_count": 17,
      "outputs": []
    },
    {
      "cell_type": "code",
      "metadata": {
        "id": "WjYYFzadQ-J9",
        "outputId": "7e5762f1-d6d9-4be9-e685-1349b6b560ec",
        "colab": {
          "base_uri": "https://localhost:8080/"
        }
      },
      "source": [
        "hist -l 1 -f p1.py"
      ],
      "execution_count": 18,
      "outputs": [
        {
          "output_type": "stream",
          "name": "stdout",
          "text": [
            "File 'p1.py' exists. Overwrite? y\n",
            "Overwriting file.\n"
          ]
        }
      ]
    },
    {
      "cell_type": "markdown",
      "metadata": {
        "id": "Xz1Hv8BscYP7"
      },
      "source": [
        "# Main function of p1 and p2\n",
        "You should not change the code here."
      ]
    },
    {
      "cell_type": "code",
      "metadata": {
        "id": "XWmoAq6pc39D"
      },
      "source": [
        "def p1_main(seed = \"r10\"):\n",
        "    \n",
        "    p1_list = list()\n",
        "    p1_list = get_p1(seed)\n",
        "        \n",
        "    p1_list_converted = convert_p1(p1_list)\n",
        "    start_time = time.time()\n",
        "    for i in range(len(p1_list)):\n",
        "      \n",
        "        # if(i!=230):\n",
        "        #     continue\n",
        "        graph = nx.DiGraph(p1_list[i])\n",
        "        has_cycle = True\n",
        "        try:\n",
        "            res = nx.find_cycle(graph)\n",
        "        except:\n",
        "            has_cycle = False\n",
        "        if p1_has_cycle(p1_list_converted[i]) != has_cycle:\n",
        "            print('Bug in the {}th graph. P1.'.format(i))\n",
        "    print(\"--- Execution time for p1: %7f seconds ---\" % (time.time() - start_time))\n",
        "def p2_main(the_seed = \"r10\"):\n",
        "    p2_list = list()\n",
        "    p2_list = get_p2(the_seed)\n",
        "        \n",
        "    p2_list_converted = convert_p2(p2_list)\n",
        "    start_time = time.time()\n",
        "    for i in range(len(p2_list)):\n",
        "        graph = nx.DiGraph(p2_list[i])\n",
        "        has_cycle = True\n",
        "        try:\n",
        "            res = nx.find_cycle(graph)\n",
        "        except:\n",
        "            has_cycle = False\n",
        "        if p2_has_cycle(p2_list_converted[i]) != has_cycle:\n",
        "            print('Bug in the {}th graph. P2.'.format(i))\n",
        "    print(\"--- Execution time for p2: %7f seconds ---\" % (time.time() - start_time))"
      ],
      "execution_count": null,
      "outputs": []
    },
    {
      "cell_type": "markdown",
      "metadata": {
        "id": "X2hlQ8WlGJhk"
      },
      "source": [
        "# **Testing**"
      ]
    },
    {
      "cell_type": "markdown",
      "metadata": {
        "id": "Os9SrZHNllA-"
      },
      "source": [
        "You can input your student ID as the seed of the random function.\n",
        "Feel free to change it to other student IDs to see whether your function works on different graph."
      ]
    },
    {
      "cell_type": "code",
      "metadata": {
        "id": "lTWp9Nu8GJhn",
        "colab": {
          "base_uri": "https://localhost:8080/"
        },
        "outputId": "d11759f2-a392-45d4-e924-9def1cda8506"
      },
      "source": [
        "p1_main(\"b09901000\")"
      ],
      "execution_count": null,
      "outputs": [
        {
          "output_type": "stream",
          "name": "stdout",
          "text": [
            "Bug in the 1th graph. P1.\n",
            "Bug in the 2th graph. P1.\n",
            "Bug in the 5th graph. P1.\n",
            "Bug in the 6th graph. P1.\n",
            "Bug in the 7th graph. P1.\n",
            "--- Execution time for p1: 0.002867 seconds ---\n"
          ]
        }
      ]
    },
    {
      "cell_type": "code",
      "metadata": {
        "id": "E5Il0mrXGJhv",
        "colab": {
          "base_uri": "https://localhost:8080/"
        },
        "outputId": "a5712fe9-65b2-4bc9-c148-a0e824fbfb08"
      },
      "source": [
        "p2_main(\"b09901000\")"
      ],
      "execution_count": null,
      "outputs": [
        {
          "output_type": "stream",
          "name": "stdout",
          "text": [
            "Bug in the 1th graph. P2.\n",
            "Bug in the 2th graph. P2.\n",
            "Bug in the 3th graph. P2.\n",
            "--- Execution time for p2: 0.003976 seconds ---\n"
          ]
        }
      ]
    }
  ]
}