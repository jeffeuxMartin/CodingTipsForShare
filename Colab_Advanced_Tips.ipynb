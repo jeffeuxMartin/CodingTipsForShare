{
  "nbformat": 4,
  "nbformat_minor": 0,
  "metadata": {
    "colab": {
      "name": "Colab_Advanced_Tips.ipynb",
      "provenance": [],
      "collapsed_sections": [
        "yu6_N2FX7371",
        "rcJ83HMz8OJr",
        "Ont074IE8vSQ",
        "uOnBU4vrUTAv",
        "c4d7CNFYdMLp",
        "rer4gsxODt8P",
        "RegxnZFaDt8U",
        "jHHm_WM_Dt8V",
        "6X_FWPDDZ65S",
        "QRBwmq4OAMzn",
        "PTUA52jnats0",
        "76ZauEHnCnH6",
        "zpvlGpavEXqS",
        "ZxJdSVyiCnII",
        "YqNk9lm_CnIO",
        "hyHimBUWSC5V"
      ],
      "toc_visible": true,
      "authorship_tag": "ABX9TyMsKhSK4AVbqjHXce23qLyn",
      "include_colab_link": true
    },
    "kernelspec": {
      "name": "python3",
      "display_name": "Python 3"
    },
    "language_info": {
      "name": "python"
    }
  },
  "cells": [
    {
      "cell_type": "markdown",
      "metadata": {
        "id": "view-in-github",
        "colab_type": "text"
      },
      "source": [
        "<a href=\"https://colab.research.google.com/github/jeffeuxMartin/CodingTipsForShare/blob/main/Colab_Advanced_Tips.ipynb\" target=\"_parent\"><img src=\"https://colab.research.google.com/assets/colab-badge.svg\" alt=\"Open In Colab\"/></a>"
      ]
    },
    {
      "cell_type": "markdown",
      "metadata": {
        "id": "_Bb0VFJ07zjI"
      },
      "source": [
        "# Google Colaboratory 使用小技巧\n",
        "Author: 陳建成"
      ]
    },
    {
      "cell_type": "markdown",
      "metadata": {
        "id": "yu6_N2FX7371"
      },
      "source": [
        "## 1. GPU 選擇問題\n",
        "\n",
        "### 🤔 Issue\n",
        "由於像 ML HW5 這種可能需要 train 比較久的作業，對於 GPU 本身的要求可能比較嚴苛。 \n",
        "\n",
        "如果直接使用 K80 可能會跑非常久⋯⋯"
      ]
    },
    {
      "cell_type": "markdown",
      "metadata": {
        "id": "rcJ83HMz8OJr"
      },
      "source": [
        "### 😅 Original Solution\n",
        "使用 `nvidia-smi` 確認 GPU 的名稱，人眼確認  \n",
        "如果拿到 K80 即恢復原廠設定。"
      ]
    },
    {
      "cell_type": "markdown",
      "metadata": {
        "id": "9hRrDCfOCKwM"
      },
      "source": [
        "```python\n",
        "! nvidia-smi\n",
        "```"
      ]
    },
    {
      "cell_type": "markdown",
      "metadata": {
        "id": "Ont074IE8vSQ"
      },
      "source": [
        "### 😄 Automatic Solution\n",
        "\n",
        "因為 PyTorch 或 TensorFlow 本身需要使用 GPU 一定會知道 GPU device 名稱。  \n",
        "利用這個特性可以寫判斷的程式，如果拿到不希望的 GPU 自動跳出重置，避免浪費時間用不好的 GPU 訓練。"
      ]
    },
    {
      "cell_type": "code",
      "metadata": {
        "colab": {
          "base_uri": "https://localhost:8080/"
        },
        "id": "hE2k3WAJ9MgE",
        "outputId": "c469da1b-e079-4655-dd80-afe5c0daa11c"
      },
      "source": [
        "import torch\n",
        "try:\n",
        "    # Get GPU name, check if it's K80\n",
        "    GPU_name = torch.cuda.get_device_name()\n",
        "    if GPU_name[-3:] == \"K80\":\n",
        "        print(\"Get K80! :'( RESTART!\")\n",
        "        exit()  # Restart the session\n",
        "    else:\n",
        "        print(\"Your GPU is {}!\".format(GPU_name))\n",
        "        print(\"Great! Keep going~\")\n",
        "except RuntimeError as e:\n",
        "    if e.args == (\"No CUDA GPUs are available\",):\n",
        "        print(\"You are training with CPU! \"\n",
        "              \"Please restart!\")\n",
        "        exit()  # Restart the session\n",
        "    else:\n",
        "        print(\"What's wrong here?\")\n",
        "        print(\"Error message: \\n\", e)"
      ],
      "execution_count": null,
      "outputs": [
        {
          "output_type": "stream",
          "text": [
            "Your GPU is Tesla T4!\n",
            "Great! Keep going~\n"
          ],
          "name": "stdout"
        }
      ]
    },
    {
      "cell_type": "markdown",
      "metadata": {
        "id": "uOnBU4vrUTAv"
      },
      "source": [
        "### 🔍 Postscript\n",
        "如果因為拿到 K80 或者沒有使用 GPU 被 restart 的話，  \n",
        "由於重新啟動<font color=\"red\">不一定</font>會重新抽到其他 GPU，  \n",
        "請大家從這邊<font color=\"blue\">恢復原廠設定</font>來確保重新抽選。\n",
        "\n",
        "Step 1. 從上方工具列選「執行階段」  \n",
        "&emsp;&emsp;&emsp;![image-20210413162203255](https://tva1.sinaimg.cn/large/008eGmZEgy1gpi6yr9oi6j30ei02wwf7.jpg)\n",
        "\n",
        "***\n",
        "\n",
        "Step 2. 點這邊「<font color=\"blue\">恢復原廠設定的執行階段</font>」  \n",
        "&emsp;&emsp;&emsp;![image-20210413162631553](https://tva1.sinaimg.cn/large/008eGmZEgy1gpi73cmbz3j309u0cl404.jpg)\n"
      ]
    },
    {
      "cell_type": "markdown",
      "metadata": {
        "id": "c4d7CNFYdMLp"
      },
      "source": [
        "### 🚧 **Issues**\n",
        "+ [ ] 無法將「恢復原廠設定」自動化  \n",
        "（`google.colab` module 跟 JavaScript 操作網頁都嘗試過了）\n",
        "> 如果有誰知道怎麼辦的，歡迎上 NTU COOL 分享～"
      ]
    },
    {
      "cell_type": "markdown",
      "metadata": {
        "id": "rer4gsxODt8P"
      },
      "source": [
        "## 2. Colab 斷線問題\n",
        "### 🤔 Issue\n",
        "由於 Colab 會偵測使用者是否在電腦前面使用，因此一定時間沒有動作會自動斷線"
      ]
    },
    {
      "cell_type": "markdown",
      "metadata": {
        "id": "RegxnZFaDt8U"
      },
      "source": [
        "### 😅 Original Solution\n",
        "開啟 F12 控制臺，貼上 Javascript  \n",
        "\n",
        "![image-20210413163238760](https://tva1.sinaimg.cn/large/008eGmZEgy1gpi79q5jkgj30hy0jugp7.jpg)\n",
        "\n",
        "```javascript\n",
        "function ClickConnect() {\n",
        "    console.log(\"Working...\");  // debug 用\n",
        "    // 去選擇按鈕\n",
        "    var connectbutton = document.querySelector(\n",
        "        \"colab-toolbar-button\" +\n",
        "        \"#connect-icon.big-icon.icon-okay\");\n",
        "    // 點個兩下\n",
        "    connectbutton.click(); connectbutton.click();\n",
        "};\n",
        "\n",
        "// 設定固定每 10 分鐘點一下\n",
        "const stopit = setInterval(\n",
        "    ClickConnect, 10 * 60 * 1000);\n",
        "\n",
        "// 這行沒有沒關係，只是避免停不下來\n",
        "const stopping = stopper => clearInterval(stopper);\n",
        "```\n",
        "\n",
        "使得瀏覽器每 10 分鐘會自己按兩下這個按鈕  \n",
        "&emsp;&emsp;&emsp;&emsp;&emsp;&emsp;&emsp;&emsp;<img src=\"https://i.imgur.com/Kuc4Lsz.png\" />\n"
      ]
    },
    {
      "cell_type": "markdown",
      "metadata": {
        "id": "jHHm_WM_Dt8V"
      },
      "source": [
        "### 😄 Another Solution\n",
        "\n",
        "由於實際上網址列也可以執行 JavaScript，  \n",
        "就是如果把\n",
        "```javascript\n",
        "console.log(\"Hi\");\n",
        "```\n",
        "前面加上 `javascript:` 放在網址列變成\n",
        "```\n",
        "javascript:console.log(\"Hi\");\n",
        "```\n",
        "就可以等效讓瀏覽器執行\n",
        "\n",
        "只是為了安全性，通常瀏覽器會自動把 `javascript:` 截掉\n",
        "***\n",
        "於是，如果把一個 `j` 切掉變成 `avascript:...`   \n",
        "瀏覽器就不會發現了～  \n",
        "下面的 code 會產生上面那份 code 的網址列版本，只要按下  \n",
        "![](https://i.imgur.com/1BlLdBk.png)  \n",
        "尾巴的「<img src=\"https://tva1.sinaimg.cn/large/008eGmZEgy1gpi7ji4qnrj301h01mjrb.jpg\" width=\"15\"/>」按鈕\n",
        "前面補上 `j` 就不必開啟 F12 控制臺了！"
      ]
    },
    {
      "cell_type": "code",
      "metadata": {
        "colab": {
          "base_uri": "https://localhost:8080/",
          "height": 107
        },
        "id": "d1dnPYNdC4PM",
        "outputId": "672ee89d-c143-4d03-8b56-52cd8a33ef25"
      },
      "source": [
        "import IPython\n",
        "from google.colab import output\n",
        "from IPython.display import Markdown\n",
        "\n",
        "# display JavaScript code\n",
        "display(IPython.display.Javascript('''\n",
        "  var string_to_paste = (\n",
        "      \"avascript:function ClickConnect() {    \"\n",
        "    + \"console.log('Working...');     \"\n",
        "    + \"var connectbutton = document.querySelector(\"\n",
        "    + \"        'colab-toolbar-button' +       \"\n",
        "    + \" '#connect-icon.big-icon.icon-okay');  \"\n",
        "    + \"  connectbutton.click();   \"\n",
        "    + \" connectbutton.click();};\"\n",
        "    + \"const stopit = setInterval(   \"\n",
        "    + \" ClickConnect, 10 * 60 * 1000);\"\n",
        "    + \"const stopper = stopper => \"\n",
        "    + \"clearInterval(stopper);\")\n",
        "  window.someValue = new Promise(resolve => {\n",
        "    setTimeout(() => {\n",
        "      resolve(string_to_paste);\n",
        "    }, 100);\n",
        "  });\n",
        "'''))\n",
        "\n",
        "# remind to prepend `j`\n",
        "print(\"\\x1b[01;31m請記得要在開頭加上 \\\"j\\\" ！\\x1b[0m\\n\")\n",
        "value = output.eval_js('someValue');\n",
        "\n",
        "# display\n",
        "value"
      ],
      "execution_count": null,
      "outputs": [
        {
          "output_type": "display_data",
          "data": {
            "application/javascript": [
              "\n",
              "  var string_to_paste = (\n",
              "      \"avascript:function ClickConnect() {    \"\n",
              "    + \"console.log('Working...');     \"\n",
              "    + \"var connectbutton = document.querySelector(\"\n",
              "    + \"        'colab-toolbar-button' +       \"\n",
              "    + \" '#connect-icon.big-icon.icon-okay');  \"\n",
              "    + \"  connectbutton.click();   \"\n",
              "    + \" connectbutton.click();};\"\n",
              "    + \"const stopit = setInterval(   \"\n",
              "    + \" ClickConnect, 10 * 60 * 1000);\"\n",
              "    + \"const stopper = stopper => \"\n",
              "    + \"clearInterval(stopper);\")\n",
              "  window.someValue = new Promise(resolve => {\n",
              "    setTimeout(() => {\n",
              "      resolve(string_to_paste);\n",
              "    }, 100);\n",
              "  });\n"
            ],
            "text/plain": [
              "<IPython.core.display.Javascript object>"
            ]
          },
          "metadata": {
            "tags": []
          }
        },
        {
          "output_type": "stream",
          "text": [
            "\u001b[01;31m請記得要在開頭加上 \"j\" ！\u001b[0m\n",
            "\n"
          ],
          "name": "stdout"
        },
        {
          "output_type": "execute_result",
          "data": {
            "application/vnd.google.colaboratory.intrinsic+json": {
              "type": "string"
            },
            "text/plain": [
              "\"avascript:function ClickConnect() {    console.log('Working...');     var connectbutton = document.querySelector(        'colab-toolbar-button' +        '#connect-icon.big-icon.icon-okay');    connectbutton.click();    connectbutton.click();};const stopit = setInterval(    ClickConnect, 10 * 60 * 1000);const stopper = stopper => clearInterval(stopper);\""
            ]
          },
          "metadata": {
            "tags": []
          },
          "execution_count": 13
        }
      ]
    },
    {
      "cell_type": "markdown",
      "metadata": {
        "id": "6X_FWPDDZ65S"
      },
      "source": [
        "### 🔍 Postscript\n",
        "\n",
        "其他江湖上流傳的版本，如  \n",
        "&emsp;&emsp;&emsp;https://harry0731.github.io/machine%20learning/colabdisconnect/  \n",
        "也是可行的，原理都一樣。至於要怎麼不必開 F12 方法相同\n",
        "\n",
        "例如上面是使用\n",
        "```javascript\n",
        "function ClickConnect() {\n",
        "    console.log(\"Working\");\n",
        "    document.querySelector(\"colab-connect-button\")\n",
        "            .shadowRoot\n",
        "            .getElementById(\"connect\").click();\n",
        "}\n",
        "\n",
        "setInterval(ClickConnect, 60000);\n",
        "```\n",
        "\n",
        "那就是把整堆 code 前面加上 `avascript:`   \n",
        "最後手動加上 `j`，整個貼到網址列就行了～"
      ]
    },
    {
      "cell_type": "markdown",
      "metadata": {
        "id": "QRBwmq4OAMzn"
      },
      "source": [
        "### 💥 **Extra**\n",
        "感謝**<font color=\"#00b9e0\">張博皓 (CHANG PO HAO)** </font>同學於 NTU COOL 討論（4 月 16 日 18:59）中分享的小技巧～  \n",
        "\n",
        "將上面的網址程式碼加到書籤／最愛，每次需要取用時點一下即可！  \n",
        "![](https://i.imgur.com/nRoKwLf.png)\n",
        "\n",
        "```javascript\n",
        "javascript:function ClickConnect() { console.log(\"Working\"); document.querySelector(\"colab-connect-button\")\n",
        ".shadowRoot .getElementById(\"connect\").click();} setInterval(ClickConnect, 60000);\n",
        "```\n",
        "\n",
        "如果怕格式有問題，也可以把 JavaScript code 用 [Bookmarklet 轉換器](https://mrcoles.com/bookmarklet/)轉一下再貼到書籤裡。"
      ]
    },
    {
      "cell_type": "markdown",
      "metadata": {
        "id": "PTUA52jnats0"
      },
      "source": [
        "### 🚧 **Issues**\n",
        "+ [ ] 無法防止「我不是機器人」的情況\n",
        "> 如果有誰知道怎麼辦的，歡迎上 NTU COOL 分享～\n",
        "+ [ ] 其他非 Chrome 瀏覽器可能需要調整程式碼，可以從 F12 處理"
      ]
    },
    {
      "cell_type": "markdown",
      "metadata": {
        "id": "76ZauEHnCnH6"
      },
      "source": [
        "## 3. gdown 檔案下載問題\n",
        "### 🤔 Issue\n",
        "Google 雲端硬碟對於同一時段存取流量有限制，常常無法正常使用 `gdown` 存取 dataset"
      ]
    },
    {
      "cell_type": "markdown",
      "metadata": {
        "id": "zpvlGpavEXqS"
      },
      "source": [
        "### 😅 Solution 1 —— 建立副本法\n",
        "\n",
        "到 dataset 壓縮檔案的 Google drive 頁面  \n",
        "（通常格式都是  \n",
        "> `https://drive.google.com/file/d/xxxxxxxxxxxxxxxxxxxxxxxxxxxxxxxxx/view` \n",
        "\n",
        "　的形式，其中「`xxxxxxxxxxxxxxxxxxxxxxxxxxxxxxxxx`」是一串 33 碼的檔案辨識碼，即使用 `gdown` 指令時\n",
        "> ```shell\n",
        "> gdown --id 'xxxxxxxxxxxxxxxxxxxxxxxxxxxxxxxxx'\n",
        "> ```\n",
        "\n",
        "後面那串。 \n",
        "\n",
        "***\n",
        "依照以下步驟執行：\n",
        "1. <br />\n",
        "\n",
        "     ![](https://i.imgur.com/QZoroij.png) \n",
        "1. <br />\n",
        "\n",
        "     ![](https://i.imgur.com/pk1lsck.png)\n",
        "1. <br />\n",
        "\n",
        "     ![](https://i.imgur.com/HTnsV1P.png) \n",
        "1. <br />\n",
        "\n",
        "     ![](https://i.imgur.com/QmqxzJm.png)\n",
        "1. <br />\n",
        "\n",
        "     ![](https://i.imgur.com/1NkqK9v.png) \n",
        "1. <br />\n",
        "\n",
        "     ![](https://i.imgur.com/pDtJAk0.png)\n",
        "1. <br />\n",
        "\n",
        "     ![](https://i.imgur.com/IaNpUQL.png) \n",
        "1. <br />\n",
        "\n",
        "     ![](https://i.imgur.com/EhWZITq.png)\n",
        "1. <br />\n",
        "\n",
        "     ![](https://i.imgur.com/i8g35Oy.png) \n",
        "1. <br />\n",
        "\n",
        "     ![](https://i.imgur.com/fwRwD0l.png)"
      ]
    },
    {
      "cell_type": "markdown",
      "metadata": {
        "id": "ZxJdSVyiCnII"
      },
      "source": [
        "### 😄 Solution 2 —— 建立捷徑法\n",
        "\n",
        "一樣到 dataset 壓縮檔案的 Google drive 頁面  \n",
        "（通常格式都是  \n",
        "> `https://drive.google.com/file/d/xxxxxxxxxxxxxxxxxxxxxxxxxxxxxxxxx/view` \n",
        "\n",
        "　的形式，其中「`xxxxxxxxxxxxxxxxxxxxxxxxxxxxxxxxx`」是一串 33 碼的檔案辨識碼，即使用 `gdown` 指令時\n",
        "> ```shell\n",
        "> gdown --id 'xxxxxxxxxxxxxxxxxxxxxxxxxxxxxxxxx'\n",
        "> ```\n",
        "\n",
        "後面那串。 \n",
        "\n",
        "***\n",
        "依照以下步驟執行：\n",
        "1. 點選畫面右上方的「新增雲端硬碟捷徑」\n",
        "![](https://i.imgur.com/WETQMKC.png)  \n",
        "\n",
        "1. 接著點這個箭頭進入自己雲端硬碟  \n",
        "  （對應 掛載位置`/MyDrive`，當然也可以選擇其他的）  \n",
        "![](https://i.imgur.com/QOlp90x.png)\n",
        "\n",
        "1. 點選「在這裡新增捷徑」  \n",
        "  （如果要新增在其他資料夾，一樣用「>」移動即可）  \n",
        "![](https://i.imgur.com/WRaFR6F.png)\n",
        "\n",
        "1. 應該會出現  \n",
        "![](https://i.imgur.com/oIv4Q8r.png)  \n",
        "![](https://i.imgur.com/6NqUNn3.png)  \n",
        "  就完成了捷徑的新增\n",
        "\n",
        "1. 應該可以在雲端硬碟看到  \n",
        "![](https://i.imgur.com/69aPrPm.png)  \n",
        "  接著就如同該檔案存在在那裡使用即可～"
      ]
    },
    {
      "cell_type": "markdown",
      "metadata": {
        "id": "YqNk9lm_CnIO"
      },
      "source": [
        "### ❗ **Note**\n",
        "+ 捷徑法應該比起副本法省去不少 Google 的流量需求。  \n",
        "尤其許多 dataset 都是 zip 檔，在解壓縮時勢必需要再次複製一次，  \n",
        "因此可以直接用此方法，只要記得將解壓縮後的檔案存在自己硬碟即可。  \n",
        "（可以省去存放壓縮檔的空間）\n",
        "+ 若建立捷徑的對象**並非壓縮檔**則很可能會與原始檔案連動，建議以\n",
        "```shell\n",
        "cp file_from_link.xxx new_file_made.xxx\n",
        "```\n",
        "複製一份，或等效的使用副本法處理（但這可能會動到 Google 的流量計算）。"
      ]
    },
    {
      "cell_type": "markdown",
      "metadata": {
        "id": "hyHimBUWSC5V"
      },
      "source": [
        "### 🚧 **Issues**\n",
        "+ [ ] 還沒真正被壓力測試過\n",
        "> 希望同學用得順利，遇到問題歡迎反映\n",
        "+ [ ] 擔憂與原始檔案連動（但大 dataset 通常不會更動）"
      ]
    }
  ]
}