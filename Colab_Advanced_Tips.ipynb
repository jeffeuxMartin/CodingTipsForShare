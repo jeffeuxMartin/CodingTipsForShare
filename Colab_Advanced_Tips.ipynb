{
  "nbformat": 4,
  "nbformat_minor": 0,
  "metadata": {
    "colab": {
      "name": "Colab_Advanced_Tips.ipynb",
      "provenance": [],
      "collapsed_sections": [
        "yu6_N2FX7371",
        "rer4gsxODt8P"
      ],
      "toc_visible": true,
      "authorship_tag": "ABX9TyONHiUT8sx9J6V/9ADUswIf",
      "include_colab_link": true
    },
    "kernelspec": {
      "name": "python3",
      "display_name": "Python 3"
    },
    "language_info": {
      "name": "python"
    },
    "accelerator": "GPU"
  },
  "cells": [
    {
      "cell_type": "markdown",
      "metadata": {
        "id": "view-in-github",
        "colab_type": "text"
      },
      "source": [
        "<a href=\"https://colab.research.google.com/github/jeffeuxMartin/CodingTipsForShare/blob/main/Colab_Advanced_Tips.ipynb\" target=\"_parent\"><img src=\"https://colab.research.google.com/assets/colab-badge.svg\" alt=\"Open In Colab\"/></a>"
      ]
    },
    {
      "cell_type": "markdown",
      "metadata": {
        "id": "_Bb0VFJ07zjI"
      },
      "source": [
        "# Google Colaboratory 使用小技巧"
      ]
    },
    {
      "cell_type": "markdown",
      "metadata": {
        "id": "yu6_N2FX7371"
      },
      "source": [
        "## 1. GPU 選擇問題 \n",
        "\n",
        "### 🤔 Issue\n",
        "由於像 ML HW5 這種可能需要 train 比較久的作業，對於 GPU 本身的要求可能比較嚴苛。 \n",
        "\n",
        "如果直接使用 K80 可能會跑非常久⋯⋯"
      ]
    },
    {
      "cell_type": "markdown",
      "metadata": {
        "id": "rcJ83HMz8OJr"
      },
      "source": [
        "### 😅 Original Solution\n",
        "使用 `nvidia-smi` 確認 GPU 的名稱，人眼確認  \n",
        "如果拿到 K80 即恢復原廠設定。"
      ]
    },
    {
      "cell_type": "markdown",
      "metadata": {
        "id": "9hRrDCfOCKwM"
      },
      "source": [
        "```python\n",
        "! nvidia-smi\n",
        "```"
      ]
    },
    {
      "cell_type": "markdown",
      "metadata": {
        "id": "Ont074IE8vSQ"
      },
      "source": [
        "### 😄 Automatic Solution\n",
        "\n",
        "因為 PyTorch 或 TensorFlow 本身需要使用 GPU 一定會知道 GPU device 名稱。  \n",
        "利用這個特性可以寫判斷的程式，如果拿到不希望的 GPU 自動跳出重置，避免浪費時間用不好的 GPU 訓練。"
      ]
    },
    {
      "cell_type": "code",
      "metadata": {
        "colab": {
          "base_uri": "https://localhost:8080/"
        },
        "id": "hE2k3WAJ9MgE",
        "outputId": "c469da1b-e079-4655-dd80-afe5c0daa11c"
      },
      "source": [
        "import torch\n",
        "try:\n",
        "    # Get GPU name, check if it's K80\n",
        "    GPU_name = torch.cuda.get_device_name()\n",
        "    if GPU_name[-3:] == \"K80\":\n",
        "        print(\"Get K80! :'( RESTART!\")\n",
        "        exit()  # Restart the session\n",
        "    else:\n",
        "        print(\"Your GPU is {}!\".format(GPU_name))\n",
        "        print(\"Great! Keep going~\")\n",
        "except RuntimeError as e:\n",
        "    if e.args == (\"No CUDA GPUs are available\",):\n",
        "        print(\"You are training with CPU! \"\n",
        "              \"Please restart!\")\n",
        "        exit()  # Restart the session\n",
        "    else:\n",
        "        print(\"What's wrong here?\")\n",
        "        print(\"Error message: \\n\", e)"
      ],
      "execution_count": null,
      "outputs": [
        {
          "output_type": "stream",
          "text": [
            "Your GPU is Tesla T4!\n",
            "Great! Keep going~\n"
          ],
          "name": "stdout"
        }
      ]
    },
    {
      "cell_type": "markdown",
      "metadata": {
        "id": "uOnBU4vrUTAv"
      },
      "source": [
        "### 🔍 Postscript\n",
        "如果因為拿到 K80 或者沒有使用 GPU 被 restart 的話，  \n",
        "由於重新啟動<font color=\"red\">不一定</font>會重新抽到其他 GPU，  \n",
        "請大家從這邊<font color=\"blue\">恢復原廠設定</font>來確保重新抽選。\n",
        "\n",
        "Step 1. 從上方工具列選「執行階段」  \n",
        "&emsp;&emsp;&emsp;![image-20210413162203255](https://tva1.sinaimg.cn/large/008eGmZEgy1gpi6yr9oi6j30ei02wwf7.jpg)\n",
        "\n",
        "***\n",
        "\n",
        "Step 2. 點這邊「<font color=\"blue\">恢復原廠設定的執行階段</font>」  \n",
        "&emsp;&emsp;&emsp;![image-20210413162631553](https://tva1.sinaimg.cn/large/008eGmZEgy1gpi73cmbz3j309u0cl404.jpg)\n"
      ]
    },
    {
      "cell_type": "markdown",
      "metadata": {
        "id": "c4d7CNFYdMLp"
      },
      "source": [
        "### 🚧 **Issues**\n",
        "+ [ ] 無法將「恢復原廠設定」自動化  \n",
        "（`google.colab` module 跟 JavaScript 操作網頁都嘗試過了）\n",
        "> 如果有誰知道怎麼辦的，歡迎上 NTU COOL 分享～"
      ]
    },
    {
      "cell_type": "markdown",
      "metadata": {
        "id": "rer4gsxODt8P"
      },
      "source": [
        "## 2. Colab 斷線問題\n",
        "### 🤔 Issue\n",
        "由於 Colab 會偵測使用者是否在電腦前面使用，因此一定時間沒有動作會自動斷線"
      ]
    },
    {
      "cell_type": "markdown",
      "metadata": {
        "id": "RegxnZFaDt8U"
      },
      "source": [
        "### 😅 Original Solution\n",
        "開啟 F12 控制臺，貼上 Javascript  \n",
        "\n",
        "![image-20210413163238760](https://tva1.sinaimg.cn/large/008eGmZEgy1gpi79q5jkgj30hy0jugp7.jpg)\n",
        "\n",
        "```javascript\n",
        "function ClickConnect() {\n",
        "    console.log(\"Working...\");  // debug 用\n",
        "    // 去選擇按鈕\n",
        "    var connectbutton = document.querySelector(\n",
        "        \"colab-toolbar-button\" +\n",
        "        \"#connect-icon.big-icon.icon-okay\");\n",
        "    // 點個兩下\n",
        "    connectbutton.click(); connectbutton.click();\n",
        "};\n",
        "\n",
        "// 設定固定每 10 分鐘點一下\n",
        "const stopit = setInterval(\n",
        "    ClickConnect, 10 * 60 * 1000);\n",
        "\n",
        "// 這行沒有沒關係，只是避免停不下來\n",
        "const stopping = stopper => clearInterval(stopper);\n",
        "```\n",
        "\n",
        "使得瀏覽器每 10 分鐘會自己按兩下這個按鈕  \n",
        "&emsp;&emsp;&emsp;&emsp;&emsp;&emsp;&emsp;&emsp;<img src=\"https://i.imgur.com/Kuc4Lsz.png\" />\n"
      ]
    },
    {
      "cell_type": "markdown",
      "metadata": {
        "id": "jHHm_WM_Dt8V"
      },
      "source": [
        "### 😄 Another Solution\n",
        "\n",
        "由於實際上網址列也可以執行 JavaScript，  \n",
        "就是如果把\n",
        "```javascript\n",
        "console.log(\"Hi\");\n",
        "```\n",
        "前面加上 `javascript:` 放在網址列變成\n",
        "```\n",
        "javascript:console.log(\"Hi\");\n",
        "```\n",
        "就可以等效讓瀏覽器執行\n",
        "\n",
        "只是為了安全性，通常瀏覽器會自動把 `javascript:` 截掉\n",
        "***\n",
        "於是，如果把一個 `j` 切掉變成 `avascript:...`   \n",
        "瀏覽器就不會發現了～  \n",
        "下面的 code 會產生上面那份 code 的網址列版本，只要按下  \n",
        "![](https://i.imgur.com/1BlLdBk.png)  \n",
        "尾巴的「<img src=\"https://tva1.sinaimg.cn/large/008eGmZEgy1gpi7ji4qnrj301h01mjrb.jpg\" width=\"15\"/>」按鈕\n",
        "前面補上 `j` 就不必開啟 F12 控制臺了！"
      ]
    },
    {
      "cell_type": "code",
      "metadata": {
        "colab": {
          "base_uri": "https://localhost:8080/",
          "height": 107
        },
        "id": "d1dnPYNdC4PM",
        "outputId": "672ee89d-c143-4d03-8b56-52cd8a33ef25"
      },
      "source": [
        "import IPython\n",
        "from google.colab import output\n",
        "from IPython.display import Markdown\n",
        "\n",
        "# display JavaScript code\n",
        "display(IPython.display.Javascript('''\n",
        "  var string_to_paste = (\n",
        "      \"avascript:function ClickConnect() {    \"\n",
        "    + \"console.log('Working...');     \"\n",
        "    + \"var connectbutton = document.querySelector(\"\n",
        "    + \"        'colab-toolbar-button' +       \"\n",
        "    + \" '#connect-icon.big-icon.icon-okay');  \"\n",
        "    + \"  connectbutton.click();   \"\n",
        "    + \" connectbutton.click();};\"\n",
        "    + \"const stopit = setInterval(   \"\n",
        "    + \" ClickConnect, 10 * 60 * 1000);\"\n",
        "    + \"const stopper = stopper => \"\n",
        "    + \"clearInterval(stopper);\")\n",
        "  window.someValue = new Promise(resolve => {\n",
        "    setTimeout(() => {\n",
        "      resolve(string_to_paste);\n",
        "    }, 100);\n",
        "  });\n",
        "'''))\n",
        "\n",
        "# remind to prepend `j`\n",
        "print(\"\\x1b[01;31m請記得要在開頭加上 \\\"j\\\" ！\\x1b[0m\\n\")\n",
        "value = output.eval_js('someValue');\n",
        "\n",
        "# display\n",
        "value"
      ],
      "execution_count": null,
      "outputs": [
        {
          "output_type": "display_data",
          "data": {
            "application/javascript": [
              "\n",
              "  var string_to_paste = (\n",
              "      \"avascript:function ClickConnect() {    \"\n",
              "    + \"console.log('Working...');     \"\n",
              "    + \"var connectbutton = document.querySelector(\"\n",
              "    + \"        'colab-toolbar-button' +       \"\n",
              "    + \" '#connect-icon.big-icon.icon-okay');  \"\n",
              "    + \"  connectbutton.click();   \"\n",
              "    + \" connectbutton.click();};\"\n",
              "    + \"const stopit = setInterval(   \"\n",
              "    + \" ClickConnect, 10 * 60 * 1000);\"\n",
              "    + \"const stopper = stopper => \"\n",
              "    + \"clearInterval(stopper);\")\n",
              "  window.someValue = new Promise(resolve => {\n",
              "    setTimeout(() => {\n",
              "      resolve(string_to_paste);\n",
              "    }, 100);\n",
              "  });\n"
            ],
            "text/plain": [
              "<IPython.core.display.Javascript object>"
            ]
          },
          "metadata": {
            "tags": []
          }
        },
        {
          "output_type": "stream",
          "text": [
            "\u001b[01;31m請記得要在開頭加上 \"j\" ！\u001b[0m\n",
            "\n"
          ],
          "name": "stdout"
        },
        {
          "output_type": "execute_result",
          "data": {
            "application/vnd.google.colaboratory.intrinsic+json": {
              "type": "string"
            },
            "text/plain": [
              "\"avascript:function ClickConnect() {    console.log('Working...');     var connectbutton = document.querySelector(        'colab-toolbar-button' +        '#connect-icon.big-icon.icon-okay');    connectbutton.click();    connectbutton.click();};const stopit = setInterval(    ClickConnect, 10 * 60 * 1000);const stopper = stopper => clearInterval(stopper);\""
            ]
          },
          "metadata": {
            "tags": []
          },
          "execution_count": 13
        }
      ]
    },
    {
      "cell_type": "markdown",
      "metadata": {
        "id": "6X_FWPDDZ65S"
      },
      "source": [
        "### 🔍 Postscript\n",
        "\n",
        "其他江湖上流傳的版本，如  \n",
        "&emsp;&emsp;&emsp;https://harry0731.github.io/machine%20learning/colabdisconnect/  \n",
        "也是可行的，原理都一樣。至於要怎麼不必開 F12 方法相同\n",
        "\n",
        "例如上面是使用\n",
        "```javascript\n",
        "function ClickConnect() {\n",
        "    console.log(\"Working\");\n",
        "    document.querySelector(\"colab-connect-button\")\n",
        "            .shadowRoot\n",
        "            .getElementById(\"connect\").click();\n",
        "}\n",
        "\n",
        "setInterval(ClickConnect, 60000);\n",
        "```\n",
        "\n",
        "那就是把整堆 code 前面加上 `avascript:`   \n",
        "最後手動加上 `j`，整個貼到網址列就行了～"
      ]
    },
    {
      "cell_type": "markdown",
      "metadata": {
        "id": "PTUA52jnats0"
      },
      "source": [
        "### 🚧 **Issues**\n",
        "+ [ ] 無法防止「我不是機器人」的情況\n",
        "> 如果有誰知道怎麼辦的，歡迎上 NTU COOL 分享～"
      ]
    },
    {
      "cell_type": "code",
      "metadata": {
        "id": "Gm5wMsAEYUCd"
      },
      "source": [
        ""
      ],
      "execution_count": null,
      "outputs": []
    }
  ]
}