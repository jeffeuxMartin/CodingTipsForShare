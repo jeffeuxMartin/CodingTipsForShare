{
  "nbformat": 4,
  "nbformat_minor": 0,
  "metadata": {
    "colab": {
      "name": "Seminar_lots.ipynb",
      "provenance": [],
      "collapsed_sections": [],
      "include_colab_link": true
    },
    "kernelspec": {
      "name": "python3",
      "display_name": "Python 3"
    },
    "language_info": {
      "name": "python"
    }
  },
  "cells": [
    {
      "cell_type": "markdown",
      "metadata": {
        "id": "view-in-github",
        "colab_type": "text"
      },
      "source": [
        "<a href=\"https://colab.research.google.com/github/jeffeuxMartin/CodingTipsForShare/blob/main/Seminar_lots.ipynb\" target=\"_parent\"><img src=\"https://colab.research.google.com/assets/colab-badge.svg\" alt=\"Open In Colab\"/></a>"
      ]
    },
    {
      "cell_type": "code",
      "metadata": {
        "id": "UmLb59DKZZif",
        "cellView": "form"
      },
      "source": [
        "#@title 執行我來抽籤\n",
        "\n",
        "from google.colab import auth\n",
        "import gspread\n",
        "from oauth2client.client import GoogleCredentials\n",
        "import numpy as np, pandas as pd\n",
        "from IPython.display import clear_output \n",
        "\n",
        "def get_sheet():\n",
        "    auth.authenticate_user()\n",
        "    gc = gspread.authorize(\n",
        "        GoogleCredentials.get_application_default())\n",
        "\n",
        "    worksheet = gc.open(\n",
        "        \"專題討論報告時段選填 (回覆)\").get_worksheet(1)\n",
        "    assert worksheet.title == \"抽籤名單\", \"找下一個？\"\n",
        "\n",
        "    return worksheet\n",
        "\n",
        "def retrieve_data(worksheet):\n",
        "    # get_all_values gives a list of rows.\n",
        "    rows = worksheet.get_all_values()\n",
        "\n",
        "    # Convert to a DataFrame and render.\n",
        "    get_row = {i.split(\"\\n\")[0]: i for i in rows[0]}\n",
        "    dataframe = pd.DataFrame.from_records(\n",
        "        rows[1:], columns=rows[0])\n",
        "    return get_row, dataframe\n",
        "\n",
        "def drawing_lots(myclass, get_row, dataframe):\n",
        "    x, y = map(int, \n",
        "               get_row[myclass].split(\"抽\")[1].split(\"/\"))\n",
        "    print(f\"從 {y:2d} 位{myclass}生中抽 {x:2d} 位……\")\n",
        "    students = [i for i in dataframe[get_row[myclass]] \n",
        "                  if i != \"\"]\n",
        "    assert len(students) == y, \"Length incorrect!\"\n",
        "    return np.random.choice(\n",
        "        students, x, replace=False).tolist()\n",
        "\n",
        "def displayer(myclass, get_row, dataframe):\n",
        "    for idx, name in enumerate(\n",
        "        drawing_lots(myclass, get_row, dataframe)):\n",
        "        print(f\"{idx + 1:2d}: {name}\")\n",
        "\n",
        "def main():\n",
        "    worksheet = get_sheet()\n",
        "    get_row, dataframe = retrieve_data(worksheet)\n",
        "    clear_output()\n",
        "\n",
        "    for myclass in \"碩一 碩二以上 博班\".split():\n",
        "        displayer(myclass, get_row, dataframe)\n",
        "        if not myclass[0] == \"博\": print()    \n",
        "\n",
        "if __name__ == \"__main__\": main()"
      ],
      "execution_count": null,
      "outputs": []
    }
  ]
}