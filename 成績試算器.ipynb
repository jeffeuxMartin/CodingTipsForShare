{
  "nbformat": 4,
  "nbformat_minor": 0,
  "metadata": {
    "colab": {
      "name": "成績試算器.ipynb",
      "provenance": [],
      "collapsed_sections": [],
      "authorship_tag": "ABX9TyPDfPJNH0JjobhDfk+/XYdg",
      "include_colab_link": true
    },
    "kernelspec": {
      "name": "python3",
      "display_name": "Python 3"
    },
    "language_info": {
      "name": "python"
    }
  },
  "cells": [
    {
      "cell_type": "markdown",
      "metadata": {
        "id": "view-in-github",
        "colab_type": "text"
      },
      "source": [
        "<a href=\"https://colab.research.google.com/github/jeffeuxMartin/CodingTipsForShare/blob/main/%E6%88%90%E7%B8%BE%E8%A9%A6%E7%AE%97%E5%99%A8.ipynb\" target=\"_parent\"><img src=\"https://colab.research.google.com/assets/colab-badge.svg\" alt=\"Open In Colab\"/></a>"
      ]
    },
    {
      "cell_type": "code",
      "metadata": {
        "colab": {
          "base_uri": "https://localhost:8080/"
        },
        "cellView": "form",
        "id": "B5x7t52yufdm",
        "outputId": "0701b637-70ab-4d0e-ed85-fbbc840d9259"
      },
      "source": [
        "#@title 成績試算器\n",
        "\n",
        "if True:\n",
        "    SCORE__HW_1 =  8  #@param{\"type\": \"number\"}\n",
        "    SCORE__HW_2 =  8  #@param{\"type\": \"number\"}\n",
        "    SCORE__HW_3 =  5  #@param{\"type\": \"number\"}\n",
        "    SCORE__HW_4 =  4  #@param{\"type\": \"number\"}\n",
        "    SCORE__HW_5 =  0  #@param{\"type\": \"number\"}\n",
        "    SCORE__HW_6 =  2  #@param{\"type\": \"number\"}\n",
        "    SCORE__HW_7 =  8  #@param{\"type\": \"number\"}\n",
        "    SCORE__HW_8 =  8  #@param{\"type\": \"number\"}\n",
        "    SCORE__HW_9 =  6  #@param{\"type\": \"number\"}\n",
        "    SCORE__HW10 =  8  #@param{\"type\": \"number\"}\n",
        "    SCORE__HW11 = 10  #@param{\"type\": \"number\"}\n",
        "    SCORE__HW12 =  8  #@param{\"type\": \"number\"}\n",
        "    SCORE__HW13 =  9  #@param{\"type\": \"number\"}\n",
        "    SCORE__HW14 =  9  #@param{\"type\": \"number\"}\n",
        "SCORES_DICT = {\n",
        "    \"HW 1\": round(SCORE__HW_1, 1),\n",
        "    \"HW 2\": round(SCORE__HW_2, 1),\n",
        "    \"HW 3\": round(SCORE__HW_3, 1),\n",
        "    \"HW 4\": round(SCORE__HW_4, 1),\n",
        "    \"HW 5\": round(SCORE__HW_5, 1),\n",
        "    \"HW 6\": round(SCORE__HW_6, 1),\n",
        "    \"HW 7\": round(SCORE__HW_7, 1),\n",
        "    \"HW 8\": round(SCORE__HW_8, 1),\n",
        "    \"HW 9\": round(SCORE__HW_9, 1),\n",
        "    \"HW10\": round(SCORE__HW10, 1),\n",
        "    \"HW11\": round(SCORE__HW11, 1),\n",
        "    \"HW12\": round(SCORE__HW12, 1),\n",
        "    \"HW13\": round(SCORE__HW13, 1),\n",
        "    \"HW14\": round(SCORE__HW14, 1)}\n",
        "def rank(score): \n",
        "    return (['F', 'C-', 'C', 'C+', 'B-', 'B', 'B+',\n",
        "             'A-', 'A', 'A+'][sorted(\n",
        "            [score + .1, 90, 85, 80, 77, \n",
        "             73, 70, 67, 63, 60]).index(score + .1)])\n",
        "def HW15(num): \n",
        "    return round(sum(sorted(\n",
        "        list(SCORES_DICT.values()) + [num])[-10:]))\n",
        "def formatted_grade_and_rank(grade):\n",
        "    return (\"==> total = {:3d}\"\n",
        "             \" | rank {:2s}\".format(\n",
        "                grade, rank(grade)))\n",
        "def float_formatter(float_num):\n",
        "    if float_num % 1. == 0.:\n",
        "        formatted = \"{:2d}\".format(int(float_num))\n",
        "    else:\n",
        "        formatted = \"{:4.1f}\".format(float_num)\n",
        "    return \"{:4s}\".format(formatted)\n",
        "if False:\n",
        "    # oldrank = \"\"; oldfull = \"\"\n",
        "    # for j in range(25 + 1):\n",
        "    #     i = j / 25 * 10.\n",
        "    #     newrank = formatted_grade_and_rank(HW15(i))\n",
        "    #     if oldrank == \"\" or oldrank != newrank:\n",
        "    #         if oldrank != \"\":\n",
        "    #             print(\" \".join(\n",
        "    #                 [\"HW15\", \"=\", \n",
        "    #                  float_formatter(i), oldrank]))\n",
        "    #         oldrank = newrank\n",
        "    #         print(\" \".join(\n",
        "    #             [\"HW15\", \"=\", \n",
        "    #              float_formatter(i), newrank]))\n",
        "    # print(\" \".join([\"HW15\", \"=\", \n",
        "    #                 float_formatter(i), newrank]))\n",
        "    pass\n",
        "def main():\n",
        "    for j in range(25 + 1):\n",
        "        i = j / 25 * 10.\n",
        "        newrank = formatted_grade_and_rank(HW15(i))\n",
        "        if True:\n",
        "            print(\" \".join(\n",
        "                [\"HW15\", \"=\", \n",
        "                float_formatter(i), newrank]))\n",
        "\n",
        "if __name__ == \"__main__\": main()\n"
      ],
      "execution_count": 50,
      "outputs": [
        {
          "output_type": "stream",
          "text": [
            "HW15 =  0   ==> total =  82 | rank A-\n",
            "HW15 =  0.4 ==> total =  82 | rank A-\n",
            "HW15 =  0.8 ==> total =  82 | rank A-\n",
            "HW15 =  1.2 ==> total =  82 | rank A-\n",
            "HW15 =  1.6 ==> total =  82 | rank A-\n",
            "HW15 =  2   ==> total =  82 | rank A-\n",
            "HW15 =  2.4 ==> total =  82 | rank A-\n",
            "HW15 =  2.8 ==> total =  82 | rank A-\n",
            "HW15 =  3.2 ==> total =  82 | rank A-\n",
            "HW15 =  3.6 ==> total =  82 | rank A-\n",
            "HW15 =  4   ==> total =  82 | rank A-\n",
            "HW15 =  4.4 ==> total =  82 | rank A-\n",
            "HW15 =  4.8 ==> total =  82 | rank A-\n",
            "HW15 =  5.2 ==> total =  82 | rank A-\n",
            "HW15 =  5.6 ==> total =  82 | rank A-\n",
            "HW15 =  6   ==> total =  82 | rank A-\n",
            "HW15 =  6.4 ==> total =  82 | rank A-\n",
            "HW15 =  6.8 ==> total =  83 | rank A-\n",
            "HW15 =  7.2 ==> total =  83 | rank A-\n",
            "HW15 =  7.6 ==> total =  84 | rank A-\n",
            "HW15 =  8   ==> total =  84 | rank A-\n",
            "HW15 =  8.4 ==> total =  84 | rank A-\n",
            "HW15 =  8.8 ==> total =  85 | rank A \n",
            "HW15 =  9.2 ==> total =  85 | rank A \n",
            "HW15 =  9.6 ==> total =  86 | rank A \n",
            "HW15 = 10   ==> total =  86 | rank A \n"
          ],
          "name": "stdout"
        }
      ]
    }
  ]
}