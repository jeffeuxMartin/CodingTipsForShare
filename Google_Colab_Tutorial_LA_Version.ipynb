{
  "nbformat": 4,
  "nbformat_minor": 0,
  "metadata": {
    "colab": {
      "name": "Google Colab Tutorial -- LA Version",
      "provenance": [],
      "collapsed_sections": [],
      "include_colab_link": true
    },
    "kernelspec": {
      "name": "python3",
      "display_name": "Python 3"
    }
  },
  "cells": [
    {
      "cell_type": "markdown",
      "metadata": {
        "id": "view-in-github",
        "colab_type": "text"
      },
      "source": [
        "<a href=\"https://colab.research.google.com/github/jeffeuxMartin/CodingTipsForShare/blob/main/Google_Colab_Tutorial_LA_Version.ipynb\" target=\"_parent\"><img src=\"https://colab.research.google.com/assets/colab-badge.svg\" alt=\"Open In Colab\"/></a>"
      ]
    },
    {
      "cell_type": "markdown",
      "metadata": {
        "id": "ca2CpPPUvO-h"
      },
      "source": [
        "# **Google Colab Tutorial -- Linear Algebra version**\n",
        "\n",
        "\n",
        "Should you have any question, contact TA via <br/> earalgebralin@gmail.com\n"
      ]
    },
    {
      "cell_type": "markdown",
      "metadata": {
        "id": "xIN7RF4wjgHk"
      },
      "source": [
        "<p><img alt=\"Colaboratory logo\" height=\"45px\" src=\"/img/colab_favicon.ico\" align=\"left\" hspace=\"10px\" vspace=\"0px\"></p>\n",
        "\n",
        "<h1>What is Colaboratory?</h1>\n",
        "\n",
        "Colaboratory, or \"Colab\" for short, allows you to write and execute Python in your browser, with \n",
        "- Zero configuration required\n",
        "- Free access to GPUs\n",
        "- Easy sharing\n",
        "\n",
        "Whether you're a **student**, a **data scientist** or an **AI researcher**, Colab can make your work easier. Watch [Introduction to Colab](https://www.youtube.com/watch?v=inN8seMm7UI) to learn more, or just get started below!\n",
        "\n",
        "You can type python code in the code block, or use a leading exclamation mark ! to change the code block to bash environment to execute linux code."
      ]
    },
    {
      "cell_type": "markdown",
      "metadata": {
        "id": "yxbzzfObVIiT"
      },
      "source": [
        "# Languages in Colab\n",
        "* Python\n",
        "* Shell script\n",
        "* Markdown"
      ]
    },
    {
      "cell_type": "markdown",
      "metadata": {
        "id": "PffYMdBeWVQs"
      },
      "source": [
        "## Python"
      ]
    },
    {
      "cell_type": "code",
      "metadata": {
        "colab": {
          "base_uri": "https://localhost:8080/"
        },
        "id": "I9SA69aCVPsl",
        "outputId": "1122e262-8e98-4e2b-e8f4-dd35fc2a0bc7"
      },
      "source": [
        "print(\"Hello world!\")"
      ],
      "execution_count": 1,
      "outputs": [
        {
          "output_type": "stream",
          "name": "stdout",
          "text": [
            "Hello world!\n"
          ]
        }
      ]
    },
    {
      "cell_type": "code",
      "metadata": {
        "colab": {
          "base_uri": "https://localhost:8080/"
        },
        "id": "JWSFbV11VUJt",
        "outputId": "776a0eaf-e5ab-4046-ec7c-288c2103597a"
      },
      "source": [
        "for i in range(10):\n",
        "    print(i)"
      ],
      "execution_count": 2,
      "outputs": [
        {
          "output_type": "stream",
          "name": "stdout",
          "text": [
            "0\n",
            "1\n",
            "2\n",
            "3\n",
            "4\n",
            "5\n",
            "6\n",
            "7\n",
            "8\n",
            "9\n"
          ]
        }
      ]
    },
    {
      "cell_type": "code",
      "metadata": {
        "id": "fhsG4dBIVWOR"
      },
      "source": [
        "def greeting(name):\n",
        "    print(f\"Hello {name}!\")"
      ],
      "execution_count": 3,
      "outputs": []
    },
    {
      "cell_type": "code",
      "metadata": {
        "colab": {
          "base_uri": "https://localhost:8080/"
        },
        "id": "ojEb2RetVeRg",
        "outputId": "e8385c14-9911-4387-c925-13e3d2a56c8d"
      },
      "source": [
        "list_of_names = [\"Jeff\", \"Daniel\", \"Kevin\"]\n",
        "for person in list_of_names:\n",
        "    greeting(person)"
      ],
      "execution_count": 4,
      "outputs": [
        {
          "output_type": "stream",
          "name": "stdout",
          "text": [
            "Hello Jeff!\n",
            "Hello Daniel!\n",
            "Hello Kevin!\n"
          ]
        }
      ]
    },
    {
      "cell_type": "code",
      "metadata": {
        "colab": {
          "base_uri": "https://localhost:8080/"
        },
        "id": "eVYAJ2WbVr76",
        "outputId": "66113fe5-3f17-4a40-e921-c51c1cda1662"
      },
      "source": [
        "import numpy as np\n",
        "\n",
        "class Circle(object):\n",
        "    def __init__(self, \n",
        "                 radius: float, \n",
        "                 color: str = \"red\"):\n",
        "        self.radius = radius\n",
        "        self.color = color\n",
        "\n",
        "    def get_area(self):\n",
        "        return np.pi * (self.radius ** 2)\n",
        "\n",
        "small_circle = Circle(5.5)\n",
        "print(small_circle.get_area())"
      ],
      "execution_count": 5,
      "outputs": [
        {
          "output_type": "stream",
          "name": "stdout",
          "text": [
            "95.03317777109125\n"
          ]
        }
      ]
    },
    {
      "cell_type": "markdown",
      "metadata": {
        "id": "2oalKmqJV6K7"
      },
      "source": [
        "## Shell"
      ]
    },
    {
      "cell_type": "code",
      "metadata": {
        "colab": {
          "base_uri": "https://localhost:8080/",
          "height": 38
        },
        "id": "sh2xTodBWXqZ",
        "outputId": "e763d55d-e574-47c5-f9b9-3c13dd897e56"
      },
      "source": [
        "pwd"
      ],
      "execution_count": 6,
      "outputs": [
        {
          "output_type": "execute_result",
          "data": {
            "application/vnd.google.colaboratory.intrinsic+json": {
              "type": "string"
            },
            "text/plain": [
              "'/content'"
            ]
          },
          "metadata": {},
          "execution_count": 6
        }
      ]
    },
    {
      "cell_type": "code",
      "metadata": {
        "colab": {
          "base_uri": "https://localhost:8080/"
        },
        "id": "NQl8S1teWatl",
        "outputId": "1fa56b8c-e366-42fc-bcf6-90af1696d539"
      },
      "source": [
        "cd /content/sample_data"
      ],
      "execution_count": 7,
      "outputs": [
        {
          "output_type": "stream",
          "name": "stdout",
          "text": [
            "/content/sample_data\n"
          ]
        }
      ]
    },
    {
      "cell_type": "code",
      "metadata": {
        "colab": {
          "base_uri": "https://localhost:8080/"
        },
        "id": "Lmp9rJcHWcZM",
        "outputId": "c2aeb80c-8201-41bc-ef8e-4fd10affd96b"
      },
      "source": [
        "!ls"
      ],
      "execution_count": 8,
      "outputs": [
        {
          "output_type": "stream",
          "name": "stdout",
          "text": [
            "anscombe.json\t\t      mnist_test.csv\n",
            "california_housing_test.csv   mnist_train_small.csv\n",
            "california_housing_train.csv  README.md\n"
          ]
        }
      ]
    },
    {
      "cell_type": "code",
      "metadata": {
        "id": "lWr6_VHXWeBw"
      },
      "source": [
        "!cp anscombe.json /content"
      ],
      "execution_count": 9,
      "outputs": []
    },
    {
      "cell_type": "code",
      "metadata": {
        "colab": {
          "base_uri": "https://localhost:8080/"
        },
        "id": "VXLfcYTRWjST",
        "outputId": "18f51387-520f-4fd4-a87f-ef442cf21b49"
      },
      "source": [
        "cd /content"
      ],
      "execution_count": 10,
      "outputs": [
        {
          "output_type": "stream",
          "name": "stdout",
          "text": [
            "/content\n"
          ]
        }
      ]
    },
    {
      "cell_type": "code",
      "metadata": {
        "id": "F4loo-NRWl9m"
      },
      "source": [
        "!rm anscombe.json"
      ],
      "execution_count": 11,
      "outputs": []
    },
    {
      "cell_type": "code",
      "metadata": {
        "colab": {
          "base_uri": "https://localhost:8080/"
        },
        "id": "M4QcYW8qWoiX",
        "outputId": "ab75d84a-332b-45ba-8201-06185690bf6c"
      },
      "source": [
        "!echo hi"
      ],
      "execution_count": 12,
      "outputs": [
        {
          "output_type": "stream",
          "name": "stdout",
          "text": [
            "hi\n"
          ]
        }
      ]
    },
    {
      "cell_type": "code",
      "metadata": {
        "id": "bPzaj3IlWso0"
      },
      "source": [
        "# A Python cell\n",
        "with open(\"demo.py\", 'w') as f:\n",
        "    f.write(\"\"\"for j in range(5):\n",
        "    print(j)\"\"\")"
      ],
      "execution_count": 13,
      "outputs": []
    },
    {
      "cell_type": "code",
      "metadata": {
        "colab": {
          "base_uri": "https://localhost:8080/"
        },
        "id": "0rywI6WKW2py",
        "outputId": "09ddc124-0d5a-4dd7-ed61-105291add564"
      },
      "source": [
        "!cat demo.py"
      ],
      "execution_count": 14,
      "outputs": [
        {
          "output_type": "stream",
          "name": "stdout",
          "text": [
            "for j in range(5):\n",
            "    print(j)"
          ]
        }
      ]
    },
    {
      "cell_type": "code",
      "metadata": {
        "colab": {
          "base_uri": "https://localhost:8080/"
        },
        "id": "9ChCE3OcW4m-",
        "outputId": "a8db96c9-fb3c-4de3-c189-e2a3d3a8e58b"
      },
      "source": [
        "!python demo.py"
      ],
      "execution_count": 15,
      "outputs": [
        {
          "output_type": "stream",
          "name": "stdout",
          "text": [
            "0\n",
            "1\n",
            "2\n",
            "3\n",
            "4\n"
          ]
        }
      ]
    },
    {
      "cell_type": "markdown",
      "metadata": {
        "id": "FTNVzPXbW6pf"
      },
      "source": [
        "## Markdown"
      ]
    },
    {
      "cell_type": "markdown",
      "metadata": {
        "id": "eSRHlARCNHUH"
      },
      "source": [
        "# H1 Title\n",
        "\n",
        "## H2 Title\n",
        "\n",
        "[Gmail](https://mail.google.com/)\n",
        "\n",
        "**bold** texts and *italic* texts"
      ]
    },
    {
      "cell_type": "markdown",
      "metadata": {
        "id": "sopDnlAETuXb"
      },
      "source": [
        "$$\\int_a^b x^2 + 2x - 3 dx$$"
      ]
    },
    {
      "cell_type": "markdown",
      "metadata": {
        "id": "k_gmTo9NKtu9"
      },
      "source": [
        "**Mounting Google Drive**\n",
        "\n",
        "  One advantage of using google colab is that connection with other google services such as Google Drive is simple. By mounting google drive, the working files can be stored permanantly. After executing the following code block, log in to the google account and copy the authentication code to the input box to finish the process."
      ]
    },
    {
      "cell_type": "code",
      "metadata": {
        "id": "ImETTQKkL2l4",
        "colab": {
          "base_uri": "https://localhost:8080/"
        },
        "outputId": "8828125b-d675-45e4-c072-942e83b7e911"
      },
      "source": [
        "from google.colab import drive  # Import a library named google.colab\n",
        "drive.mount('/content/drive')   # mount the content to the directory `/content/drive`"
      ],
      "execution_count": 16,
      "outputs": [
        {
          "output_type": "stream",
          "name": "stdout",
          "text": [
            "Mounted at /content/drive\n"
          ]
        }
      ]
    },
    {
      "cell_type": "markdown",
      "metadata": {
        "id": "AkmayCmGMD03"
      },
      "source": [
        "After mounting the drive, the content of the google drive will be under a directory named `MyDrive`, check the file structure for such a folder to confirm the execution of the code."
      ]
    },
    {
      "cell_type": "markdown",
      "metadata": {
        "id": "kDrO_DjBMW5D"
      },
      "source": [
        "There is also an icon for mounting google drive. The icon will automatically generate the code above.\n",
        "\n",
        "![](https://i.imgur.com/hM9Jgi7.png)  \n"
      ]
    }
  ]
}