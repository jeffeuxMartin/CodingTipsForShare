{
  "nbformat": 4,
  "nbformat_minor": 0,
  "metadata": {
    "colab": {
      "name": "Google Colab Tutorial -- LA Version",
      "provenance": [],
      "collapsed_sections": [],
      "include_colab_link": true
    },
    "kernelspec": {
      "name": "python3",
      "display_name": "Python 3"
    }
  },
  "cells": [
    {
      "cell_type": "markdown",
      "metadata": {
        "id": "view-in-github",
        "colab_type": "text"
      },
      "source": [
        "<a href=\"https://colab.research.google.com/github/jeffeuxMartin/CodingTipsForShare/blob/main/Google_Colab_Tutorial_LA_Version.ipynb\" target=\"_parent\"><img src=\"https://colab.research.google.com/assets/colab-badge.svg\" alt=\"Open In Colab\"/></a>"
      ]
    },
    {
      "cell_type": "markdown",
      "metadata": {
        "id": "ca2CpPPUvO-h"
      },
      "source": [
        "# **Google Colab Tutorial -- Linear Algebra version**\n",
        "\n",
        "\n",
        "Should you have any question, contact TA via <br/> earalgebralin@gmail.com\n"
      ]
    },
    {
      "cell_type": "markdown",
      "metadata": {
        "id": "xIN7RF4wjgHk"
      },
      "source": [
        "<p><img alt=\"Colaboratory logo\" height=\"45px\" src=\"/img/colab_favicon.ico\" align=\"left\" hspace=\"10px\" vspace=\"0px\"></p>\n",
        "\n",
        "<h1>What is Colaboratory?</h1>\n",
        "\n",
        "Colaboratory, or \"Colab\" for short, allows you to write and execute Python in your browser, with \n",
        "- Zero configuration required\n",
        "- Free access to GPUs\n",
        "- Easy sharing\n",
        "\n",
        "Whether you're a **student**, a **data scientist** or an **AI researcher**, Colab can make your work easier. Watch [Introduction to Colab](https://www.youtube.com/watch?v=inN8seMm7UI) to learn more, or just get started below!\n",
        "\n",
        "You can type python code in the code block, or use a leading exclamation mark ! to change the code block to bash environment to execute linux code."
      ]
    },
    {
      "cell_type": "markdown",
      "metadata": {
        "id": "yxbzzfObVIiT"
      },
      "source": [
        "# Languages in Colab\n",
        "* Python\n",
        "* Shell script\n",
        "* Markdown"
      ]
    },
    {
      "cell_type": "markdown",
      "metadata": {
        "id": "PffYMdBeWVQs"
      },
      "source": [
        "## Python"
      ]
    },
    {
      "cell_type": "code",
      "metadata": {
        "colab": {
          "base_uri": "https://localhost:8080/"
        },
        "id": "I9SA69aCVPsl",
        "outputId": "a8b6aef3-59eb-498f-e39c-d3b5f5507c49"
      },
      "source": [
        "print(\"Hello world!\")"
      ],
      "execution_count": 26,
      "outputs": [
        {
          "output_type": "stream",
          "name": "stdout",
          "text": [
            "Hello world!\n"
          ]
        }
      ]
    },
    {
      "cell_type": "code",
      "metadata": {
        "colab": {
          "base_uri": "https://localhost:8080/"
        },
        "id": "JWSFbV11VUJt",
        "outputId": "285a2f3e-8a9c-443a-bf4d-c559c0c59a14"
      },
      "source": [
        "for i in range(10):\n",
        "    print(i)"
      ],
      "execution_count": 27,
      "outputs": [
        {
          "output_type": "stream",
          "name": "stdout",
          "text": [
            "0\n",
            "1\n",
            "2\n",
            "3\n",
            "4\n",
            "5\n",
            "6\n",
            "7\n",
            "8\n",
            "9\n"
          ]
        }
      ]
    },
    {
      "cell_type": "code",
      "metadata": {
        "id": "fhsG4dBIVWOR"
      },
      "source": [
        "def greeting(name):\n",
        "    print(f\"Hello {name}!\")"
      ],
      "execution_count": 28,
      "outputs": []
    },
    {
      "cell_type": "code",
      "metadata": {
        "colab": {
          "base_uri": "https://localhost:8080/"
        },
        "id": "ojEb2RetVeRg",
        "outputId": "842c2dd5-d07b-471d-ccad-1c09fc8f3481"
      },
      "source": [
        "list_of_names = [\"Jeff\", \"Daniel\", \"Kevin\"]\n",
        "for person in list_of_names:\n",
        "    greeting(person)"
      ],
      "execution_count": 29,
      "outputs": [
        {
          "output_type": "stream",
          "name": "stdout",
          "text": [
            "Hello Jeff!\n",
            "Hello Daniel!\n",
            "Hello Kevin!\n"
          ]
        }
      ]
    },
    {
      "cell_type": "code",
      "metadata": {
        "colab": {
          "base_uri": "https://localhost:8080/"
        },
        "id": "eVYAJ2WbVr76",
        "outputId": "dc9581a2-15a3-4bcd-a2bf-8bdf53a63384"
      },
      "source": [
        "import numpy as np\n",
        "\n",
        "class Circle(object):\n",
        "    def __init__(self, \n",
        "                 radius: float, \n",
        "                 color: str = \"red\"):\n",
        "        self.radius = radius\n",
        "        self.color = color\n",
        "\n",
        "    def get_area(self):\n",
        "        return np.pi * (self.radius ** 2)\n",
        "\n",
        "small_circle = Circle(5.5)\n",
        "print(small_circle.get_area())"
      ],
      "execution_count": 30,
      "outputs": [
        {
          "output_type": "stream",
          "name": "stdout",
          "text": [
            "95.03317777109125\n"
          ]
        }
      ]
    },
    {
      "cell_type": "markdown",
      "metadata": {
        "id": "2oalKmqJV6K7"
      },
      "source": [
        "## Shell"
      ]
    },
    {
      "cell_type": "code",
      "metadata": {
        "colab": {
          "base_uri": "https://localhost:8080/",
          "height": 38
        },
        "id": "sh2xTodBWXqZ",
        "outputId": "8b83f8be-73af-4f77-8a69-043b3f7e2b79"
      },
      "source": [
        "pwd"
      ],
      "execution_count": 31,
      "outputs": [
        {
          "output_type": "execute_result",
          "data": {
            "application/vnd.google.colaboratory.intrinsic+json": {
              "type": "string"
            },
            "text/plain": [
              "'/content'"
            ]
          },
          "metadata": {},
          "execution_count": 31
        }
      ]
    },
    {
      "cell_type": "code",
      "metadata": {
        "colab": {
          "base_uri": "https://localhost:8080/"
        },
        "id": "NQl8S1teWatl",
        "outputId": "21eefdf3-dac8-4bfe-b861-728844f2be3e"
      },
      "source": [
        "cd /content/sample_data"
      ],
      "execution_count": 32,
      "outputs": [
        {
          "output_type": "stream",
          "name": "stdout",
          "text": [
            "/content/sample_data\n"
          ]
        }
      ]
    },
    {
      "cell_type": "code",
      "metadata": {
        "colab": {
          "base_uri": "https://localhost:8080/"
        },
        "id": "Lmp9rJcHWcZM",
        "outputId": "ddb2f237-2400-4fde-a020-df0d9b8bc3fb"
      },
      "source": [
        "!ls"
      ],
      "execution_count": 33,
      "outputs": [
        {
          "output_type": "stream",
          "name": "stdout",
          "text": [
            "anscombe.json\t\t      mnist_test.csv\n",
            "california_housing_test.csv   mnist_train_small.csv\n",
            "california_housing_train.csv  README.md\n"
          ]
        }
      ]
    },
    {
      "cell_type": "code",
      "metadata": {
        "id": "lWr6_VHXWeBw"
      },
      "source": [
        "!cp anscombe.json /content"
      ],
      "execution_count": 34,
      "outputs": []
    },
    {
      "cell_type": "code",
      "metadata": {
        "colab": {
          "base_uri": "https://localhost:8080/"
        },
        "id": "VXLfcYTRWjST",
        "outputId": "586345b0-1c3f-4c04-96d7-57f9a2d389d8"
      },
      "source": [
        "cd /content"
      ],
      "execution_count": 35,
      "outputs": [
        {
          "output_type": "stream",
          "name": "stdout",
          "text": [
            "/content\n"
          ]
        }
      ]
    },
    {
      "cell_type": "code",
      "metadata": {
        "id": "F4loo-NRWl9m"
      },
      "source": [
        "!rm anscombe.json"
      ],
      "execution_count": 36,
      "outputs": []
    },
    {
      "cell_type": "code",
      "metadata": {
        "colab": {
          "base_uri": "https://localhost:8080/"
        },
        "id": "M4QcYW8qWoiX",
        "outputId": "c2c1611a-b6c2-4d0a-a3c9-61581756403d"
      },
      "source": [
        "!echo hi"
      ],
      "execution_count": 37,
      "outputs": [
        {
          "output_type": "stream",
          "name": "stdout",
          "text": [
            "hi\n"
          ]
        }
      ]
    },
    {
      "cell_type": "code",
      "metadata": {
        "id": "bPzaj3IlWso0"
      },
      "source": [
        "# A Python cell\n",
        "with open(\"demo.py\", 'w') as f:\n",
        "    f.write(\"\"\"for j in range(5):\n",
        "    print(j)\"\"\")"
      ],
      "execution_count": 38,
      "outputs": []
    },
    {
      "cell_type": "code",
      "metadata": {
        "colab": {
          "base_uri": "https://localhost:8080/"
        },
        "id": "0rywI6WKW2py",
        "outputId": "7e2b60b3-203c-4636-b9fa-854343988f85"
      },
      "source": [
        "!cat demo.py"
      ],
      "execution_count": 39,
      "outputs": [
        {
          "output_type": "stream",
          "name": "stdout",
          "text": [
            "for j in range(5):\n",
            "    print(j)"
          ]
        }
      ]
    },
    {
      "cell_type": "code",
      "metadata": {
        "colab": {
          "base_uri": "https://localhost:8080/"
        },
        "id": "9ChCE3OcW4m-",
        "outputId": "c291ed5e-2006-40bc-a904-6187c1c87204"
      },
      "source": [
        "!python demo.py"
      ],
      "execution_count": 40,
      "outputs": [
        {
          "output_type": "stream",
          "name": "stdout",
          "text": [
            "0\n",
            "1\n",
            "2\n",
            "3\n",
            "4\n"
          ]
        }
      ]
    },
    {
      "cell_type": "markdown",
      "metadata": {
        "id": "FTNVzPXbW6pf"
      },
      "source": [
        "## Markdown"
      ]
    },
    {
      "cell_type": "markdown",
      "metadata": {
        "id": "eSRHlARCNHUH"
      },
      "source": [
        "# H1 Title\n",
        "\n",
        "## H2 Title\n",
        "\n",
        "[Gmail](https://mail.google.com/)\n",
        "\n",
        "**bold** texts and *italic* texts"
      ]
    },
    {
      "cell_type": "markdown",
      "metadata": {
        "id": "sopDnlAETuXb"
      },
      "source": [
        "$$\\int_a^b x^2 + 2x - 3 dx$$"
      ]
    },
    {
      "cell_type": "markdown",
      "metadata": {
        "id": "k_gmTo9NKtu9"
      },
      "source": [
        "**Mounting Google Drive**\n",
        "\n",
        "  One advantage of using google colab is that connection with other google services such as Google Drive is simple. By mounting google drive, the working files can be stored permanantly. After executing the following code block, log in to the google account and copy the authentication code to the input box to finish the process."
      ]
    },
    {
      "cell_type": "code",
      "metadata": {
        "id": "ImETTQKkL2l4"
      },
      "source": [
        "from google.colab import drive  # Import a library named google.colab\n",
        "drive.mount('/content/drive')   # mount the content to the directory `/content/drive`"
      ],
      "execution_count": null,
      "outputs": []
    },
    {
      "cell_type": "markdown",
      "metadata": {
        "id": "AkmayCmGMD03"
      },
      "source": [
        "After mounting the drive, the content of the google drive will be under a directory named `MyDrive`, check the file structure for such a folder to confirm the execution of the code."
      ]
    },
    {
      "cell_type": "markdown",
      "metadata": {
        "id": "kDrO_DjBMW5D"
      },
      "source": [
        "There is also an icon for mounting google drive. The icon will automatically generate the code above.\n",
        "\n",
        "![](https://i.imgur.com/hM9Jgi7.png)  \n"
      ]
    }
  ]
}